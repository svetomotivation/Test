{
 "cells": [
  {
   "cell_type": "markdown",
   "metadata": {},
   "source": [
    "У вас есть список конфет разных типов, вам нужно собрать одинаковые наборы для своих друзей. Какому максимальному числу друзей вы сможете собрать наборы так, чтобы раздарить все конфеты. Реализуйте функцию на питоне, которая принимает на вход список конфет и отдает максимальное число друзей\n",
    "\n",
    "ТЕСТ: ['a', 'b', 'c'] ОТВЕТ:1\n",
    "\n",
    "ТЕСТ: ['a', 'b', 'c', 'a', 'b', 'c', 'd'] ОТВЕТ:1\n",
    "\n",
    "ТЕСТ: ['a', 'b', 'c', 'a', 'b', 'c'] ОТВЕТ:2"
   ]
  },
  {
   "cell_type": "markdown",
   "metadata": {},
   "source": [
    "Два варианта решения:"
   ]
  },
  {
   "cell_type": "code",
   "execution_count": 4,
   "metadata": {},
   "outputs": [],
   "source": [
    "from collections import Counter\n",
    "\n",
    "def all_sweets_1(sweets):\n",
    "    c = Counter()\n",
    "    for kandy in sweets:\n",
    "        c[kandy] += 1\n",
    "    return min(dict(c).values())"
   ]
  },
  {
   "cell_type": "code",
   "execution_count": 5,
   "metadata": {},
   "outputs": [],
   "source": [
    "def all_sweets_2(sweets):\n",
    "    return min(dict((i, sweets.count(i)) for i in set(sweets)).values())"
   ]
  }
 ],
 "metadata": {
  "kernelspec": {
   "display_name": "Python 3",
   "language": "python",
   "name": "python3"
  },
  "language_info": {
   "codemirror_mode": {
    "name": "ipython",
    "version": 3
   },
   "file_extension": ".py",
   "mimetype": "text/x-python",
   "name": "python",
   "nbconvert_exporter": "python",
   "pygments_lexer": "ipython3",
   "version": "3.7.6"
  }
 },
 "nbformat": 4,
 "nbformat_minor": 4
}
